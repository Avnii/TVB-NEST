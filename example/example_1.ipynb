{
 "cells": [
  {
   "cell_type": "code",
   "execution_count": 7,
   "metadata": {},
   "outputs": [
    {
     "name": "stdout",
     "output_type": "stream",
     "text": [
      "[INFO] [2020.6.24 7:23:26 /home/nest-io-dev/nestkernel/rng_manager.cpp:208 @ Network::create_rngs_] : Creating default RNGs\n",
      "[INFO] [2020.6.24 7:23:26 /home/nest-io-dev/nestkernel/rng_manager.cpp:251 @ Network::create_grng_] : Creating new default global RNG\n",
      "\n",
      "              -- N E S T --\n",
      "  Copyright (C) 2004 The NEST Initiative\n",
      "\n",
      " Version: UNKNOWN\n",
      " Built: Jun 24 2020 04:40:50\n",
      "\n",
      " This program is provided AS IS and comes with\n",
      " NO WARRANTY. See the file LICENSE for details.\n",
      "\n",
      " Problems or suggestions?\n",
      "   Visit https://www.nest-simulator.org\n",
      "\n",
      " Type 'nest.help()' to find out more about NEST.\n",
      "\n",
      "2020-06-24 07:23:27,621 - WARNING - tvb.simulator.common - psutil module not available: no warnings will be issued when a\n",
      "    simulation may require more memory than available\n",
      "   INFO  log level set to INFO\n",
      "time: 2020-06-24 07:23:27.979690 BEGIN SIMULATION \n",
      "\n",
      "Time to initialize the network: 0.02 s\n",
      "[0, 800]\n",
      "[800, 1000]\n",
      "2020-06-24 07:23:28,768 - WARNING - tvb.simulator.common - psutil module not available: no warnings will be issued when a\n",
      "    simulation may require more memory than available\n",
      "   INFO  log level set to INFO\n",
      "./test_1/\n",
      "   INFO  wait connection tag#1$description#INS-Precision-7540$port#54679$ifname#127.0.1.1$\n",
      "Time to create the connections and devices: 0.07 s\n",
      "   INFO  Nest Prepare\n",
      "   INFO  connect to tag#1$description#INS-Precision-7540$port#54679$ifname#127.0.1.1$\n",
      "   INFO  wait connection tag#0$description#INS-Precision-7540$port#55593$ifname#127.0.1.1$\n",
      "   INFO  connect to tag#0$description#INS-Precision-7540$port#55593$ifname#127.0.1.1$\n",
      "   INFO   TVB receive data\n",
      "   INFO   TVB start simulation 0.0\n",
      "   INFO   Nest run time 0.0\n",
      "   INFO   TVB end simulation\n",
      "   INFO   TVB receive data\n",
      "   INFO   Nest end\n",
      "   INFO   Nest run time 11.0\n",
      "   INFO   TVB start simulation 11.0\n",
      "   INFO   Nest end\n",
      "   INFO   Nest run time 22.0\n",
      "   INFO   TVB end simulation\n",
      "   INFO   TVB receive data\n",
      "   INFO   TVB start simulation 22.0\n",
      "   INFO   TVB end simulation\n",
      "   INFO   TVB receive data\n",
      "   INFO   Nest end\n",
      "   INFO   Nest run time 33.0\n",
      "   INFO   TVB start simulation 33.0\n",
      "   INFO   TVB end simulation\n",
      "   INFO   TVB receive data\n",
      "   INFO   Nest end\n",
      "   INFO   Nest run time 44.0\n",
      "   INFO   TVB start simulation 44.0\n",
      "   INFO   TVB end simulation\n",
      "   INFO   TVB receive data\n",
      "   INFO   Nest end\n",
      "   INFO   Nest run time 55.0\n",
      "   INFO   TVB start simulation 55.0\n",
      "   INFO   TVB end simulation\n",
      "   INFO   TVB receive data\n",
      "   INFO   Nest end\n",
      "   INFO   Nest run time 66.0\n",
      "   INFO   TVB start simulation 66.0\n",
      "   INFO   TVB end simulation\n",
      "   INFO   TVB receive data\n",
      "   INFO   Nest end\n",
      "   INFO   Nest run time 77.0\n",
      "   INFO   TVB start simulation 77.0\n",
      "   INFO   TVB end simulation\n",
      "   INFO   TVB receive data\n",
      "   INFO   Nest end\n",
      "   INFO   Nest run time 88.0\n",
      "   INFO   TVB start simulation 88.0\n",
      "   INFO   TVB end simulation\n",
      "   INFO   TVB receive data\n",
      "   INFO   Nest end\n",
      "   INFO   Nest run time 99.0\n",
      "   INFO   TVB start simulation 99.0\n",
      "   INFO   TVB end simulation\n",
      "   INFO   TVB receive data\n",
      "   INFO   Nest end\n",
      "   INFO   Nest run time 110.0\n",
      "   INFO   TVB start simulation 110.0\n",
      "   INFO   TVB end simulation\n",
      "   INFO   TVB receive data\n",
      "   INFO   Nest end\n",
      "   INFO   Nest run time 121.0\n",
      "   INFO   TVB start simulation 121.0\n",
      "   INFO   TVB end simulation\n",
      "   INFO   TVB receive data\n",
      "   INFO   Nest end\n",
      "   INFO   Nest run time 132.0\n",
      "   INFO   TVB start simulation 132.0\n",
      "   INFO   TVB end simulation\n",
      "   INFO   TVB receive data\n",
      "   INFO   Nest end\n",
      "   INFO   Nest run time 143.0\n",
      "   INFO   TVB start simulation 143.0\n",
      "   INFO   TVB end simulation\n",
      "   INFO   TVB receive data\n",
      "   INFO   Nest end\n",
      "   INFO   Nest run time 154.0\n",
      "   INFO   TVB start simulation 154.0\n",
      "   INFO   TVB end simulation\n",
      "   INFO   TVB receive data\n",
      "   INFO   Nest end\n",
      "   INFO   Nest run time 165.0\n",
      "   INFO   TVB start simulation 165.0\n",
      "   INFO   TVB end simulation\n",
      "   INFO   TVB receive data\n",
      "   INFO   Nest end\n",
      "   INFO   Nest run time 176.0\n",
      "   INFO   TVB start simulation 176.0\n",
      "   INFO   TVB end simulation\n",
      "   INFO   TVB receive data\n",
      "   INFO   Nest end\n",
      "   INFO   Nest run time 187.0\n",
      "   INFO   TVB start simulation 187.0\n",
      "   INFO   TVB end simulation\n",
      "   INFO   TVB receive data\n",
      "   INFO   Nest end\n",
      "   INFO   Nest run time 198.0\n",
      "   INFO   TVB start simulation 198.0\n",
      "   INFO   TVB end simulation\n",
      "   INFO   TVB receive data\n",
      "   INFO   Nest end\n",
      "   INFO   Nest run time 209.0\n",
      "   INFO   TVB start simulation 209.0\n",
      "   INFO   TVB end simulation\n",
      "   INFO   TVB receive data\n",
      "   INFO   Nest end\n",
      "   INFO   Nest run time 220.0\n",
      "   INFO   TVB start simulation 220.0\n",
      "   INFO   TVB end simulation\n",
      "   INFO   TVB receive data\n",
      "   INFO   Nest end\n",
      "   INFO   Nest run time 231.0\n",
      "   INFO   TVB start simulation 231.0\n",
      "   INFO   TVB end simulation\n",
      "   INFO   TVB receive data\n",
      "   INFO   Nest end\n",
      "   INFO   Nest run time 242.0\n",
      "   INFO   TVB start simulation 242.0\n",
      "   INFO   TVB end simulation\n",
      "   INFO   TVB receive data\n",
      "   INFO   Nest end\n",
      "   INFO   Nest run time 253.0\n",
      "   INFO   TVB start simulation 253.0\n",
      "   INFO   TVB end simulation\n",
      "   INFO   TVB receive data\n"
     ]
    }
   ],
   "source": [
    "!mpirun /usr/bin/python3.7 /home/nest_elephant_tvb/simulation/run_exploration.py ./test_1/parameter.py"
   ]
  },
  {
   "cell_type": "code",
   "execution_count": null,
   "outputs": [],
   "source": [
    "ll"
   ],
   "metadata": {
    "collapsed": false,
    "pycharm": {
     "name": "#%%\n"
    }
   }
  },
  {
   "cell_type": "code",
   "execution_count": 1,
   "metadata": {},
   "outputs": [
    {
     "name": "stdout",
     "output_type": "stream",
     "text": [
      "total 16\r\n",
      "drwxrwxr-x 2 kusch 4096 Jun 24 07:20 \u001B[0m\u001B[01;34m__pycache__\u001B[0m/\r\n",
      "-rw-rw-r-- 1 kusch 8051 Jun 25 09:47 example_1.ipynb\r\n",
      "drwxrwxr-x 9 kusch 4096 Jun 24 07:23 \u001B[01;34mtest_1\u001B[0m/\r\n"
     ]
    }
   ],
   "source": []
  },
  {
   "cell_type": "code",
   "execution_count": 6,
   "metadata": {},
   "outputs": [
    {
     "name": "stdout",
     "output_type": "stream",
     "text": [
      "/usr/bin/mpirun\r\n"
     ]
    }
   ],
   "source": []
  },
  {
   "cell_type": "code",
   "execution_count": null,
   "metadata": {},
   "outputs": [],
   "source": []
  }
 ],
 "metadata": {
  "kernelspec": {
   "display_name": "Python 3",
   "language": "python",
   "name": "python3"
  },
  "language_info": {
   "codemirror_mode": {
    "name": "ipython",
    "version": 3
   },
   "file_extension": ".py",
   "mimetype": "text/x-python",
   "name": "python",
   "nbconvert_exporter": "python",
   "pygments_lexer": "ipython3",
   "version": "3.7.3"
  },
  "pycharm": {
   "stem_cell": {
    "cell_type": "raw",
    "source": [
     "#  Copyright 2020 Forschungszentrum Jülich GmbH and Aix-Marseille Université\n",
     "# \"Licensed to the Apache Software Foundation (ASF) under one or more contributor license agreements; and to You under the Apache License, Version 2.0. \""
    ],
    "metadata": {
     "collapsed": false
    }
   }
  }
 },
 "nbformat": 4,
 "nbformat_minor": 4
}